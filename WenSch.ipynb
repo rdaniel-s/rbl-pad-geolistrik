{
 "cells": [
  {
   "attachments": {},
   "cell_type": "markdown",
   "metadata": {},
   "source": [
    "# Konfigurasi Wenner Schlumberger"
   ]
  },
  {
   "cell_type": "markdown",
   "metadata": {},
   "source": [
    "### Import Library"
   ]
  },
  {
   "cell_type": "code",
   "execution_count": 1,
   "metadata": {},
   "outputs": [
    {
     "name": "stdout",
     "output_type": "stream",
     "text": [
      "Done\n"
     ]
    }
   ],
   "source": [
    "import pandas as pd\n",
    "import numpy as np\n",
    "import matplotlib.pyplot as plt\n",
    "print(\"Done\")"
   ]
  },
  {
   "cell_type": "code",
   "execution_count": 2,
   "metadata": {},
   "outputs": [
    {
     "data": {
      "text/html": [
       "<div>\n",
       "<style scoped>\n",
       "    .dataframe tbody tr th:only-of-type {\n",
       "        vertical-align: middle;\n",
       "    }\n",
       "\n",
       "    .dataframe tbody tr th {\n",
       "        vertical-align: top;\n",
       "    }\n",
       "\n",
       "    .dataframe thead th {\n",
       "        text-align: right;\n",
       "    }\n",
       "</style>\n",
       "<table border=\"1\" class=\"dataframe\">\n",
       "  <thead>\n",
       "    <tr style=\"text-align: right;\">\n",
       "      <th></th>\n",
       "      <th>Counter</th>\n",
       "      <th>Layer</th>\n",
       "      <th>I1</th>\n",
       "      <th>I2</th>\n",
       "      <th>V1</th>\n",
       "      <th>V2</th>\n",
       "      <th>I1_RealPosition (m)</th>\n",
       "      <th>I2_RealPosition (m)</th>\n",
       "      <th>V1_RealPosition (m)</th>\n",
       "      <th>V2_RealPosition (m)</th>\n",
       "      <th>Datum Mid Point (m)</th>\n",
       "      <th>IResult (A)</th>\n",
       "      <th>VResult (V)</th>\n",
       "      <th>RResult;;;;;;;;;;;;;;;;</th>\n",
       "    </tr>\n",
       "  </thead>\n",
       "  <tbody>\n",
       "    <tr>\n",
       "      <th>0</th>\n",
       "      <td>1</td>\n",
       "      <td>1</td>\n",
       "      <td>0</td>\n",
       "      <td>0</td>\n",
       "      <td>2</td>\n",
       "      <td>3</td>\n",
       "      <td>∞</td>\n",
       "      <td>∞</td>\n",
       "      <td>10</td>\n",
       "      <td>20</td>\n",
       "      <td>0</td>\n",
       "      <td>0</td>\n",
       "      <td>0.31800</td>\n",
       "      <td>∞;;;;;;;;;;;;;;;;</td>\n",
       "    </tr>\n",
       "    <tr>\n",
       "      <th>1</th>\n",
       "      <td>2</td>\n",
       "      <td>1</td>\n",
       "      <td>0</td>\n",
       "      <td>0</td>\n",
       "      <td>3</td>\n",
       "      <td>4</td>\n",
       "      <td>∞</td>\n",
       "      <td>∞</td>\n",
       "      <td>20</td>\n",
       "      <td>30</td>\n",
       "      <td>0</td>\n",
       "      <td>0</td>\n",
       "      <td>0.05600</td>\n",
       "      <td>∞;;;;;;;;;;;;;;;;</td>\n",
       "    </tr>\n",
       "    <tr>\n",
       "      <th>2</th>\n",
       "      <td>3</td>\n",
       "      <td>1</td>\n",
       "      <td>0</td>\n",
       "      <td>0</td>\n",
       "      <td>4</td>\n",
       "      <td>5</td>\n",
       "      <td>∞</td>\n",
       "      <td>∞</td>\n",
       "      <td>30</td>\n",
       "      <td>40</td>\n",
       "      <td>0</td>\n",
       "      <td>0</td>\n",
       "      <td>0.00100</td>\n",
       "      <td>∞;;;;;;;;;;;;;;;;</td>\n",
       "    </tr>\n",
       "    <tr>\n",
       "      <th>3</th>\n",
       "      <td>4</td>\n",
       "      <td>1</td>\n",
       "      <td>0</td>\n",
       "      <td>0</td>\n",
       "      <td>5</td>\n",
       "      <td>6</td>\n",
       "      <td>∞</td>\n",
       "      <td>∞</td>\n",
       "      <td>40</td>\n",
       "      <td>50</td>\n",
       "      <td>0</td>\n",
       "      <td>0</td>\n",
       "      <td>0.21800</td>\n",
       "      <td>∞;;;;;;;;;;;;;;;;</td>\n",
       "    </tr>\n",
       "    <tr>\n",
       "      <th>4</th>\n",
       "      <td>5</td>\n",
       "      <td>1</td>\n",
       "      <td>0</td>\n",
       "      <td>0</td>\n",
       "      <td>6</td>\n",
       "      <td>7</td>\n",
       "      <td>∞</td>\n",
       "      <td>∞</td>\n",
       "      <td>50</td>\n",
       "      <td>60</td>\n",
       "      <td>0</td>\n",
       "      <td>0</td>\n",
       "      <td>0.02000</td>\n",
       "      <td>∞;;;;;;;;;;;;;;;;</td>\n",
       "    </tr>\n",
       "    <tr>\n",
       "      <th>...</th>\n",
       "      <td>...</td>\n",
       "      <td>...</td>\n",
       "      <td>...</td>\n",
       "      <td>...</td>\n",
       "      <td>...</td>\n",
       "      <td>...</td>\n",
       "      <td>...</td>\n",
       "      <td>...</td>\n",
       "      <td>...</td>\n",
       "      <td>...</td>\n",
       "      <td>...</td>\n",
       "      <td>...</td>\n",
       "      <td>...</td>\n",
       "      <td>...</td>\n",
       "    </tr>\n",
       "    <tr>\n",
       "      <th>116</th>\n",
       "      <td>117</td>\n",
       "      <td>9</td>\n",
       "      <td>0</td>\n",
       "      <td>0</td>\n",
       "      <td>14</td>\n",
       "      <td>15</td>\n",
       "      <td>∞</td>\n",
       "      <td>∞</td>\n",
       "      <td>130</td>\n",
       "      <td>140</td>\n",
       "      <td>0</td>\n",
       "      <td>0</td>\n",
       "      <td>0.01200</td>\n",
       "      <td>∞;;;;;;;;;;;;;;;;</td>\n",
       "    </tr>\n",
       "    <tr>\n",
       "      <th>117</th>\n",
       "      <td>118</td>\n",
       "      <td>10</td>\n",
       "      <td>0</td>\n",
       "      <td>0</td>\n",
       "      <td>11</td>\n",
       "      <td>12</td>\n",
       "      <td>∞</td>\n",
       "      <td>∞</td>\n",
       "      <td>100</td>\n",
       "      <td>110</td>\n",
       "      <td>0</td>\n",
       "      <td>0</td>\n",
       "      <td>0.02900</td>\n",
       "      <td>∞;;;;;;;;;;;;;;;;</td>\n",
       "    </tr>\n",
       "    <tr>\n",
       "      <th>118</th>\n",
       "      <td>119</td>\n",
       "      <td>10</td>\n",
       "      <td>0</td>\n",
       "      <td>0</td>\n",
       "      <td>12</td>\n",
       "      <td>13</td>\n",
       "      <td>∞</td>\n",
       "      <td>∞</td>\n",
       "      <td>110</td>\n",
       "      <td>120</td>\n",
       "      <td>0</td>\n",
       "      <td>0</td>\n",
       "      <td>0.01933</td>\n",
       "      <td>∞;;;;;;;;;;;;;;;;</td>\n",
       "    </tr>\n",
       "    <tr>\n",
       "      <th>119</th>\n",
       "      <td>120</td>\n",
       "      <td>10</td>\n",
       "      <td>0</td>\n",
       "      <td>0</td>\n",
       "      <td>13</td>\n",
       "      <td>14</td>\n",
       "      <td>∞</td>\n",
       "      <td>∞</td>\n",
       "      <td>120</td>\n",
       "      <td>130</td>\n",
       "      <td>0</td>\n",
       "      <td>0</td>\n",
       "      <td>0.01750</td>\n",
       "      <td>∞;;;;;;;;;;;;;;;;</td>\n",
       "    </tr>\n",
       "    <tr>\n",
       "      <th>120</th>\n",
       "      <td>121</td>\n",
       "      <td>11</td>\n",
       "      <td>0</td>\n",
       "      <td>0</td>\n",
       "      <td>12</td>\n",
       "      <td>13</td>\n",
       "      <td>∞</td>\n",
       "      <td>∞</td>\n",
       "      <td>110</td>\n",
       "      <td>120</td>\n",
       "      <td>0</td>\n",
       "      <td>0</td>\n",
       "      <td>0.01750</td>\n",
       "      <td>∞;;;;;;;;;;;;;;;;</td>\n",
       "    </tr>\n",
       "  </tbody>\n",
       "</table>\n",
       "<p>121 rows × 14 columns</p>\n",
       "</div>"
      ],
      "text/plain": [
       "     Counter  Layer  I1  I2  V1  V2 I1_RealPosition (m) I2_RealPosition (m)  \\\n",
       "0          1      1   0   0   2   3                   ∞                   ∞   \n",
       "1          2      1   0   0   3   4                   ∞                   ∞   \n",
       "2          3      1   0   0   4   5                   ∞                   ∞   \n",
       "3          4      1   0   0   5   6                   ∞                   ∞   \n",
       "4          5      1   0   0   6   7                   ∞                   ∞   \n",
       "..       ...    ...  ..  ..  ..  ..                 ...                 ...   \n",
       "116      117      9   0   0  14  15                   ∞                   ∞   \n",
       "117      118     10   0   0  11  12                   ∞                   ∞   \n",
       "118      119     10   0   0  12  13                   ∞                   ∞   \n",
       "119      120     10   0   0  13  14                   ∞                   ∞   \n",
       "120      121     11   0   0  12  13                   ∞                   ∞   \n",
       "\n",
       "     V1_RealPosition (m)  V2_RealPosition (m)  Datum Mid Point (m)  \\\n",
       "0                     10                   20                    0   \n",
       "1                     20                   30                    0   \n",
       "2                     30                   40                    0   \n",
       "3                     40                   50                    0   \n",
       "4                     50                   60                    0   \n",
       "..                   ...                  ...                  ...   \n",
       "116                  130                  140                    0   \n",
       "117                  100                  110                    0   \n",
       "118                  110                  120                    0   \n",
       "119                  120                  130                    0   \n",
       "120                  110                  120                    0   \n",
       "\n",
       "     IResult (A)  VResult (V) RResult;;;;;;;;;;;;;;;;  \n",
       "0              0      0.31800       ∞;;;;;;;;;;;;;;;;  \n",
       "1              0      0.05600       ∞;;;;;;;;;;;;;;;;  \n",
       "2              0      0.00100       ∞;;;;;;;;;;;;;;;;  \n",
       "3              0      0.21800       ∞;;;;;;;;;;;;;;;;  \n",
       "4              0      0.02000       ∞;;;;;;;;;;;;;;;;  \n",
       "..           ...          ...                     ...  \n",
       "116            0      0.01200       ∞;;;;;;;;;;;;;;;;  \n",
       "117            0      0.02900       ∞;;;;;;;;;;;;;;;;  \n",
       "118            0      0.01933       ∞;;;;;;;;;;;;;;;;  \n",
       "119            0      0.01750       ∞;;;;;;;;;;;;;;;;  \n",
       "120            0      0.01750       ∞;;;;;;;;;;;;;;;;  \n",
       "\n",
       "[121 rows x 14 columns]"
      ]
     },
     "execution_count": 2,
     "metadata": {},
     "output_type": "execute_result"
    }
   ],
   "source": [
    "df_WenSch = pd.read_csv(\"12112022_103819_SP_WenSchlumberger_WS Cimenyan.csv\")\n",
    "df_WenSch"
   ]
  },
  {
   "attachments": {},
   "cell_type": "markdown",
   "metadata": {},
   "source": [
    "### Menghitung nilai d dengan |\"V1_RealPosition (m)\"-\"V2_RealPosition (m)\"|"
   ]
  },
  {
   "cell_type": "code",
   "execution_count": 3,
   "metadata": {},
   "outputs": [],
   "source": [
    "N = df_WenSch.shape[0]\n",
    "d_list = []\n",
    "for i in range(N):\n",
    "    d_i = abs(df_WenSch[\"V1_RealPosition (m)\"][i] - df_WenSch[\"V2_RealPosition (m)\"][i])\n",
    "    d_list.append(d_i)"
   ]
  },
  {
   "attachments": {},
   "cell_type": "markdown",
   "metadata": {},
   "source": [
    "### Membuat kolom \"DResult (m)\" pada dataframe"
   ]
  },
  {
   "cell_type": "code",
   "execution_count": 4,
   "metadata": {},
   "outputs": [],
   "source": [
    "df_WenSch.insert(\n",
    "    df_WenSch.shape[1],\n",
    "    \"DResult (m)\",\n",
    "    d_list,\n",
    "    True\n",
    ")"
   ]
  },
  {
   "attachments": {},
   "cell_type": "markdown",
   "metadata": {},
   "source": [
    "### Menghitung nilai E dengan \"VResult (V)\"/\"DResult (m)\""
   ]
  },
  {
   "cell_type": "code",
   "execution_count": 5,
   "metadata": {},
   "outputs": [],
   "source": [
    "N = df_WenSch.shape[0]\n",
    "E_list = []\n",
    "for i in range(N):\n",
    "    E_i = (df_WenSch[\"VResult (V)\"][i])/(df_WenSch[\"DResult (m)\"][i])\n",
    "    E_list.append(E_i)"
   ]
  },
  {
   "attachments": {},
   "cell_type": "markdown",
   "metadata": {},
   "source": [
    "### Membuat kolom \"EResult (V/m)\" pada dataframe"
   ]
  },
  {
   "cell_type": "code",
   "execution_count": 6,
   "metadata": {},
   "outputs": [
    {
     "data": {
      "text/html": [
       "<div>\n",
       "<style scoped>\n",
       "    .dataframe tbody tr th:only-of-type {\n",
       "        vertical-align: middle;\n",
       "    }\n",
       "\n",
       "    .dataframe tbody tr th {\n",
       "        vertical-align: top;\n",
       "    }\n",
       "\n",
       "    .dataframe thead th {\n",
       "        text-align: right;\n",
       "    }\n",
       "</style>\n",
       "<table border=\"1\" class=\"dataframe\">\n",
       "  <thead>\n",
       "    <tr style=\"text-align: right;\">\n",
       "      <th></th>\n",
       "      <th>Counter</th>\n",
       "      <th>Layer</th>\n",
       "      <th>I1</th>\n",
       "      <th>I2</th>\n",
       "      <th>V1</th>\n",
       "      <th>V2</th>\n",
       "      <th>I1_RealPosition (m)</th>\n",
       "      <th>I2_RealPosition (m)</th>\n",
       "      <th>V1_RealPosition (m)</th>\n",
       "      <th>V2_RealPosition (m)</th>\n",
       "      <th>Datum Mid Point (m)</th>\n",
       "      <th>IResult (A)</th>\n",
       "      <th>VResult (V)</th>\n",
       "      <th>RResult;;;;;;;;;;;;;;;;</th>\n",
       "      <th>DResult (m)</th>\n",
       "      <th>EResult (V/m)</th>\n",
       "    </tr>\n",
       "  </thead>\n",
       "  <tbody>\n",
       "    <tr>\n",
       "      <th>0</th>\n",
       "      <td>1</td>\n",
       "      <td>1</td>\n",
       "      <td>0</td>\n",
       "      <td>0</td>\n",
       "      <td>2</td>\n",
       "      <td>3</td>\n",
       "      <td>∞</td>\n",
       "      <td>∞</td>\n",
       "      <td>10</td>\n",
       "      <td>20</td>\n",
       "      <td>0</td>\n",
       "      <td>0</td>\n",
       "      <td>0.31800</td>\n",
       "      <td>∞;;;;;;;;;;;;;;;;</td>\n",
       "      <td>10</td>\n",
       "      <td>0.031800</td>\n",
       "    </tr>\n",
       "    <tr>\n",
       "      <th>1</th>\n",
       "      <td>2</td>\n",
       "      <td>1</td>\n",
       "      <td>0</td>\n",
       "      <td>0</td>\n",
       "      <td>3</td>\n",
       "      <td>4</td>\n",
       "      <td>∞</td>\n",
       "      <td>∞</td>\n",
       "      <td>20</td>\n",
       "      <td>30</td>\n",
       "      <td>0</td>\n",
       "      <td>0</td>\n",
       "      <td>0.05600</td>\n",
       "      <td>∞;;;;;;;;;;;;;;;;</td>\n",
       "      <td>10</td>\n",
       "      <td>0.005600</td>\n",
       "    </tr>\n",
       "    <tr>\n",
       "      <th>2</th>\n",
       "      <td>3</td>\n",
       "      <td>1</td>\n",
       "      <td>0</td>\n",
       "      <td>0</td>\n",
       "      <td>4</td>\n",
       "      <td>5</td>\n",
       "      <td>∞</td>\n",
       "      <td>∞</td>\n",
       "      <td>30</td>\n",
       "      <td>40</td>\n",
       "      <td>0</td>\n",
       "      <td>0</td>\n",
       "      <td>0.00100</td>\n",
       "      <td>∞;;;;;;;;;;;;;;;;</td>\n",
       "      <td>10</td>\n",
       "      <td>0.000100</td>\n",
       "    </tr>\n",
       "    <tr>\n",
       "      <th>3</th>\n",
       "      <td>4</td>\n",
       "      <td>1</td>\n",
       "      <td>0</td>\n",
       "      <td>0</td>\n",
       "      <td>5</td>\n",
       "      <td>6</td>\n",
       "      <td>∞</td>\n",
       "      <td>∞</td>\n",
       "      <td>40</td>\n",
       "      <td>50</td>\n",
       "      <td>0</td>\n",
       "      <td>0</td>\n",
       "      <td>0.21800</td>\n",
       "      <td>∞;;;;;;;;;;;;;;;;</td>\n",
       "      <td>10</td>\n",
       "      <td>0.021800</td>\n",
       "    </tr>\n",
       "    <tr>\n",
       "      <th>4</th>\n",
       "      <td>5</td>\n",
       "      <td>1</td>\n",
       "      <td>0</td>\n",
       "      <td>0</td>\n",
       "      <td>6</td>\n",
       "      <td>7</td>\n",
       "      <td>∞</td>\n",
       "      <td>∞</td>\n",
       "      <td>50</td>\n",
       "      <td>60</td>\n",
       "      <td>0</td>\n",
       "      <td>0</td>\n",
       "      <td>0.02000</td>\n",
       "      <td>∞;;;;;;;;;;;;;;;;</td>\n",
       "      <td>10</td>\n",
       "      <td>0.002000</td>\n",
       "    </tr>\n",
       "    <tr>\n",
       "      <th>...</th>\n",
       "      <td>...</td>\n",
       "      <td>...</td>\n",
       "      <td>...</td>\n",
       "      <td>...</td>\n",
       "      <td>...</td>\n",
       "      <td>...</td>\n",
       "      <td>...</td>\n",
       "      <td>...</td>\n",
       "      <td>...</td>\n",
       "      <td>...</td>\n",
       "      <td>...</td>\n",
       "      <td>...</td>\n",
       "      <td>...</td>\n",
       "      <td>...</td>\n",
       "      <td>...</td>\n",
       "      <td>...</td>\n",
       "    </tr>\n",
       "    <tr>\n",
       "      <th>116</th>\n",
       "      <td>117</td>\n",
       "      <td>9</td>\n",
       "      <td>0</td>\n",
       "      <td>0</td>\n",
       "      <td>14</td>\n",
       "      <td>15</td>\n",
       "      <td>∞</td>\n",
       "      <td>∞</td>\n",
       "      <td>130</td>\n",
       "      <td>140</td>\n",
       "      <td>0</td>\n",
       "      <td>0</td>\n",
       "      <td>0.01200</td>\n",
       "      <td>∞;;;;;;;;;;;;;;;;</td>\n",
       "      <td>10</td>\n",
       "      <td>0.001200</td>\n",
       "    </tr>\n",
       "    <tr>\n",
       "      <th>117</th>\n",
       "      <td>118</td>\n",
       "      <td>10</td>\n",
       "      <td>0</td>\n",
       "      <td>0</td>\n",
       "      <td>11</td>\n",
       "      <td>12</td>\n",
       "      <td>∞</td>\n",
       "      <td>∞</td>\n",
       "      <td>100</td>\n",
       "      <td>110</td>\n",
       "      <td>0</td>\n",
       "      <td>0</td>\n",
       "      <td>0.02900</td>\n",
       "      <td>∞;;;;;;;;;;;;;;;;</td>\n",
       "      <td>10</td>\n",
       "      <td>0.002900</td>\n",
       "    </tr>\n",
       "    <tr>\n",
       "      <th>118</th>\n",
       "      <td>119</td>\n",
       "      <td>10</td>\n",
       "      <td>0</td>\n",
       "      <td>0</td>\n",
       "      <td>12</td>\n",
       "      <td>13</td>\n",
       "      <td>∞</td>\n",
       "      <td>∞</td>\n",
       "      <td>110</td>\n",
       "      <td>120</td>\n",
       "      <td>0</td>\n",
       "      <td>0</td>\n",
       "      <td>0.01933</td>\n",
       "      <td>∞;;;;;;;;;;;;;;;;</td>\n",
       "      <td>10</td>\n",
       "      <td>0.001933</td>\n",
       "    </tr>\n",
       "    <tr>\n",
       "      <th>119</th>\n",
       "      <td>120</td>\n",
       "      <td>10</td>\n",
       "      <td>0</td>\n",
       "      <td>0</td>\n",
       "      <td>13</td>\n",
       "      <td>14</td>\n",
       "      <td>∞</td>\n",
       "      <td>∞</td>\n",
       "      <td>120</td>\n",
       "      <td>130</td>\n",
       "      <td>0</td>\n",
       "      <td>0</td>\n",
       "      <td>0.01750</td>\n",
       "      <td>∞;;;;;;;;;;;;;;;;</td>\n",
       "      <td>10</td>\n",
       "      <td>0.001750</td>\n",
       "    </tr>\n",
       "    <tr>\n",
       "      <th>120</th>\n",
       "      <td>121</td>\n",
       "      <td>11</td>\n",
       "      <td>0</td>\n",
       "      <td>0</td>\n",
       "      <td>12</td>\n",
       "      <td>13</td>\n",
       "      <td>∞</td>\n",
       "      <td>∞</td>\n",
       "      <td>110</td>\n",
       "      <td>120</td>\n",
       "      <td>0</td>\n",
       "      <td>0</td>\n",
       "      <td>0.01750</td>\n",
       "      <td>∞;;;;;;;;;;;;;;;;</td>\n",
       "      <td>10</td>\n",
       "      <td>0.001750</td>\n",
       "    </tr>\n",
       "  </tbody>\n",
       "</table>\n",
       "<p>121 rows × 16 columns</p>\n",
       "</div>"
      ],
      "text/plain": [
       "     Counter  Layer  I1  I2  V1  V2 I1_RealPosition (m) I2_RealPosition (m)  \\\n",
       "0          1      1   0   0   2   3                   ∞                   ∞   \n",
       "1          2      1   0   0   3   4                   ∞                   ∞   \n",
       "2          3      1   0   0   4   5                   ∞                   ∞   \n",
       "3          4      1   0   0   5   6                   ∞                   ∞   \n",
       "4          5      1   0   0   6   7                   ∞                   ∞   \n",
       "..       ...    ...  ..  ..  ..  ..                 ...                 ...   \n",
       "116      117      9   0   0  14  15                   ∞                   ∞   \n",
       "117      118     10   0   0  11  12                   ∞                   ∞   \n",
       "118      119     10   0   0  12  13                   ∞                   ∞   \n",
       "119      120     10   0   0  13  14                   ∞                   ∞   \n",
       "120      121     11   0   0  12  13                   ∞                   ∞   \n",
       "\n",
       "     V1_RealPosition (m)  V2_RealPosition (m)  Datum Mid Point (m)  \\\n",
       "0                     10                   20                    0   \n",
       "1                     20                   30                    0   \n",
       "2                     30                   40                    0   \n",
       "3                     40                   50                    0   \n",
       "4                     50                   60                    0   \n",
       "..                   ...                  ...                  ...   \n",
       "116                  130                  140                    0   \n",
       "117                  100                  110                    0   \n",
       "118                  110                  120                    0   \n",
       "119                  120                  130                    0   \n",
       "120                  110                  120                    0   \n",
       "\n",
       "     IResult (A)  VResult (V) RResult;;;;;;;;;;;;;;;;  DResult (m)  \\\n",
       "0              0      0.31800       ∞;;;;;;;;;;;;;;;;           10   \n",
       "1              0      0.05600       ∞;;;;;;;;;;;;;;;;           10   \n",
       "2              0      0.00100       ∞;;;;;;;;;;;;;;;;           10   \n",
       "3              0      0.21800       ∞;;;;;;;;;;;;;;;;           10   \n",
       "4              0      0.02000       ∞;;;;;;;;;;;;;;;;           10   \n",
       "..           ...          ...                     ...          ...   \n",
       "116            0      0.01200       ∞;;;;;;;;;;;;;;;;           10   \n",
       "117            0      0.02900       ∞;;;;;;;;;;;;;;;;           10   \n",
       "118            0      0.01933       ∞;;;;;;;;;;;;;;;;           10   \n",
       "119            0      0.01750       ∞;;;;;;;;;;;;;;;;           10   \n",
       "120            0      0.01750       ∞;;;;;;;;;;;;;;;;           10   \n",
       "\n",
       "     EResult (V/m)  \n",
       "0         0.031800  \n",
       "1         0.005600  \n",
       "2         0.000100  \n",
       "3         0.021800  \n",
       "4         0.002000  \n",
       "..             ...  \n",
       "116       0.001200  \n",
       "117       0.002900  \n",
       "118       0.001933  \n",
       "119       0.001750  \n",
       "120       0.001750  \n",
       "\n",
       "[121 rows x 16 columns]"
      ]
     },
     "execution_count": 6,
     "metadata": {},
     "output_type": "execute_result"
    }
   ],
   "source": [
    "df_WenSch.insert(\n",
    "    df_WenSch.shape[1], \n",
    "    \"EResult (V/m)\", \n",
    "    E_list, \n",
    "    True\n",
    ")\n",
    "\n",
    "df_WenSch"
   ]
  },
  {
   "cell_type": "code",
   "execution_count": 7,
   "metadata": {},
   "outputs": [],
   "source": [
    "data_E = df_WenSch[\"EResult (V/m)\"]"
   ]
  },
  {
   "cell_type": "markdown",
   "metadata": {},
   "source": [
    "### Menghitung rata-rata data Medan Listrik (\"EResult (V/m)\")"
   ]
  },
  {
   "cell_type": "code",
   "execution_count": 8,
   "metadata": {},
   "outputs": [
    {
     "data": {
      "text/plain": [
       "0.0038172066115702476"
      ]
     },
     "execution_count": 8,
     "metadata": {},
     "output_type": "execute_result"
    }
   ],
   "source": [
    "mean_E = data_E.mean()\n",
    "mean_E"
   ]
  },
  {
   "attachments": {},
   "cell_type": "markdown",
   "metadata": {},
   "source": [
    "### Menentukan nilai puncak (peak) data Medan Listrik (\"EResult (V/m)\")"
   ]
  },
  {
   "cell_type": "code",
   "execution_count": 9,
   "metadata": {},
   "outputs": [
    {
     "data": {
      "text/plain": [
       "0.0322"
      ]
     },
     "execution_count": 9,
     "metadata": {},
     "output_type": "execute_result"
    }
   ],
   "source": [
    "peak_E = data_E.max()\n",
    "peak_E"
   ]
  },
  {
   "cell_type": "markdown",
   "metadata": {},
   "source": [
    "### Menghitung standar deviasi data Medan Listrik (\"EResult (V/m)\")"
   ]
  },
  {
   "cell_type": "code",
   "execution_count": 10,
   "metadata": {},
   "outputs": [
    {
     "data": {
      "text/plain": [
       "0.006763221324336201"
      ]
     },
     "execution_count": 10,
     "metadata": {},
     "output_type": "execute_result"
    }
   ],
   "source": [
    "stdev_E = data_E.std()\n",
    "stdev_E"
   ]
  },
  {
   "attachments": {},
   "cell_type": "markdown",
   "metadata": {},
   "source": [
    "### Menghitung nilai P25, P50, dan P90 data Medan Listrik (\"EResult (V/m)\")"
   ]
  },
  {
   "cell_type": "code",
   "execution_count": 11,
   "metadata": {},
   "outputs": [
    {
     "data": {
      "text/plain": [
       "0.0012000000000000001"
      ]
     },
     "execution_count": 11,
     "metadata": {},
     "output_type": "execute_result"
    }
   ],
   "source": [
    "# P25\n",
    "p25_E = np.percentile(data_E, 25)\n",
    "p25_E"
   ]
  },
  {
   "cell_type": "code",
   "execution_count": 12,
   "metadata": {},
   "outputs": [
    {
     "data": {
      "text/plain": [
       "0.0017500000000000003"
      ]
     },
     "execution_count": 12,
     "metadata": {},
     "output_type": "execute_result"
    }
   ],
   "source": [
    "# P50\n",
    "p50_E = np.percentile(data_E, 50)\n",
    "p50_E"
   ]
  },
  {
   "cell_type": "code",
   "execution_count": 13,
   "metadata": {},
   "outputs": [
    {
     "data": {
      "text/plain": [
       "0.0056"
      ]
     },
     "execution_count": 13,
     "metadata": {},
     "output_type": "execute_result"
    }
   ],
   "source": [
    "# P90\n",
    "p90_E = np.percentile(data_E, 90)\n",
    "p90_E"
   ]
  },
  {
   "attachments": {},
   "cell_type": "markdown",
   "metadata": {},
   "source": [
    "### Membuat grafik distribusi Gaussian data Medan Listrik"
   ]
  },
  {
   "cell_type": "code",
   "execution_count": 14,
   "metadata": {},
   "outputs": [
    {
     "data": {
      "image/png": "[encoded data removed]",
      "text/plain": [
       "<Figure size 640x480 with 1 Axes>"
      ]
     },
     "metadata": {},
     "output_type": "display_data"
    }
   ],
   "source": [
    "count, bins, ignored = plt.hist(data_E, 30, density=True)\n",
    "plt.plot(\n",
    "    bins, \n",
    "    (1/(stdev_E * np.sqrt(2*np.pi))) * np.exp( (-((bins - mean_E)**2)) / (2 * (stdev_E**2)) ),\n",
    "    linewidth=2, \n",
    "    color='r'\n",
    ")\n",
    "plt.savefig(\"WenSch_gaussian_E.png\")\n",
    "plt.show()"
   ]
  },
  {
   "attachments": {},
   "cell_type": "markdown",
   "metadata": {},
   "source": [
    "### Menghitung nilai ENoise"
   ]
  },
  {
   "cell_type": "code",
   "execution_count": 15,
   "metadata": {},
   "outputs": [],
   "source": [
    "N = df_WenSch.shape[0]\n",
    "E_noise_list = []\n",
    "for i in range(N):\n",
    "    z = (data_E[i]-mean_E)/(stdev_E)\n",
    "    E_noise_i = (z)*(stdev_E/(N**0.5))\n",
    "    E_noise_list.append(E_noise_i)"
   ]
  },
  {
   "attachments": {},
   "cell_type": "markdown",
   "metadata": {},
   "source": [
    "### Membuat kolom \"ENoise\" pada dataframe"
   ]
  },
  {
   "cell_type": "code",
   "execution_count": 16,
   "metadata": {},
   "outputs": [
    {
     "data": {
      "text/html": [
       "<div>\n",
       "<style scoped>\n",
       "    .dataframe tbody tr th:only-of-type {\n",
       "        vertical-align: middle;\n",
       "    }\n",
       "\n",
       "    .dataframe tbody tr th {\n",
       "        vertical-align: top;\n",
       "    }\n",
       "\n",
       "    .dataframe thead th {\n",
       "        text-align: right;\n",
       "    }\n",
       "</style>\n",
       "<table border=\"1\" class=\"dataframe\">\n",
       "  <thead>\n",
       "    <tr style=\"text-align: right;\">\n",
       "      <th></th>\n",
       "      <th>Counter</th>\n",
       "      <th>Layer</th>\n",
       "      <th>I1</th>\n",
       "      <th>I2</th>\n",
       "      <th>V1</th>\n",
       "      <th>V2</th>\n",
       "      <th>I1_RealPosition (m)</th>\n",
       "      <th>I2_RealPosition (m)</th>\n",
       "      <th>V1_RealPosition (m)</th>\n",
       "      <th>V2_RealPosition (m)</th>\n",
       "      <th>Datum Mid Point (m)</th>\n",
       "      <th>IResult (A)</th>\n",
       "      <th>VResult (V)</th>\n",
       "      <th>RResult;;;;;;;;;;;;;;;;</th>\n",
       "      <th>DResult (m)</th>\n",
       "      <th>EResult (V/m)</th>\n",
       "      <th>ENoise</th>\n",
       "    </tr>\n",
       "  </thead>\n",
       "  <tbody>\n",
       "    <tr>\n",
       "      <th>0</th>\n",
       "      <td>1</td>\n",
       "      <td>1</td>\n",
       "      <td>0</td>\n",
       "      <td>0</td>\n",
       "      <td>2</td>\n",
       "      <td>3</td>\n",
       "      <td>∞</td>\n",
       "      <td>∞</td>\n",
       "      <td>10</td>\n",
       "      <td>20</td>\n",
       "      <td>0</td>\n",
       "      <td>0</td>\n",
       "      <td>0.31800</td>\n",
       "      <td>∞;;;;;;;;;;;;;;;;</td>\n",
       "      <td>10</td>\n",
       "      <td>0.031800</td>\n",
       "      <td>0.002544</td>\n",
       "    </tr>\n",
       "    <tr>\n",
       "      <th>1</th>\n",
       "      <td>2</td>\n",
       "      <td>1</td>\n",
       "      <td>0</td>\n",
       "      <td>0</td>\n",
       "      <td>3</td>\n",
       "      <td>4</td>\n",
       "      <td>∞</td>\n",
       "      <td>∞</td>\n",
       "      <td>20</td>\n",
       "      <td>30</td>\n",
       "      <td>0</td>\n",
       "      <td>0</td>\n",
       "      <td>0.05600</td>\n",
       "      <td>∞;;;;;;;;;;;;;;;;</td>\n",
       "      <td>10</td>\n",
       "      <td>0.005600</td>\n",
       "      <td>0.000162</td>\n",
       "    </tr>\n",
       "    <tr>\n",
       "      <th>2</th>\n",
       "      <td>3</td>\n",
       "      <td>1</td>\n",
       "      <td>0</td>\n",
       "      <td>0</td>\n",
       "      <td>4</td>\n",
       "      <td>5</td>\n",
       "      <td>∞</td>\n",
       "      <td>∞</td>\n",
       "      <td>30</td>\n",
       "      <td>40</td>\n",
       "      <td>0</td>\n",
       "      <td>0</td>\n",
       "      <td>0.00100</td>\n",
       "      <td>∞;;;;;;;;;;;;;;;;</td>\n",
       "      <td>10</td>\n",
       "      <td>0.000100</td>\n",
       "      <td>-0.000338</td>\n",
       "    </tr>\n",
       "    <tr>\n",
       "      <th>3</th>\n",
       "      <td>4</td>\n",
       "      <td>1</td>\n",
       "      <td>0</td>\n",
       "      <td>0</td>\n",
       "      <td>5</td>\n",
       "      <td>6</td>\n",
       "      <td>∞</td>\n",
       "      <td>∞</td>\n",
       "      <td>40</td>\n",
       "      <td>50</td>\n",
       "      <td>0</td>\n",
       "      <td>0</td>\n",
       "      <td>0.21800</td>\n",
       "      <td>∞;;;;;;;;;;;;;;;;</td>\n",
       "      <td>10</td>\n",
       "      <td>0.021800</td>\n",
       "      <td>0.001635</td>\n",
       "    </tr>\n",
       "    <tr>\n",
       "      <th>4</th>\n",
       "      <td>5</td>\n",
       "      <td>1</td>\n",
       "      <td>0</td>\n",
       "      <td>0</td>\n",
       "      <td>6</td>\n",
       "      <td>7</td>\n",
       "      <td>∞</td>\n",
       "      <td>∞</td>\n",
       "      <td>50</td>\n",
       "      <td>60</td>\n",
       "      <td>0</td>\n",
       "      <td>0</td>\n",
       "      <td>0.02000</td>\n",
       "      <td>∞;;;;;;;;;;;;;;;;</td>\n",
       "      <td>10</td>\n",
       "      <td>0.002000</td>\n",
       "      <td>-0.000165</td>\n",
       "    </tr>\n",
       "    <tr>\n",
       "      <th>...</th>\n",
       "      <td>...</td>\n",
       "      <td>...</td>\n",
       "      <td>...</td>\n",
       "      <td>...</td>\n",
       "      <td>...</td>\n",
       "      <td>...</td>\n",
       "      <td>...</td>\n",
       "      <td>...</td>\n",
       "      <td>...</td>\n",
       "      <td>...</td>\n",
       "      <td>...</td>\n",
       "      <td>...</td>\n",
       "      <td>...</td>\n",
       "      <td>...</td>\n",
       "      <td>...</td>\n",
       "      <td>...</td>\n",
       "      <td>...</td>\n",
       "    </tr>\n",
       "    <tr>\n",
       "      <th>116</th>\n",
       "      <td>117</td>\n",
       "      <td>9</td>\n",
       "      <td>0</td>\n",
       "      <td>0</td>\n",
       "      <td>14</td>\n",
       "      <td>15</td>\n",
       "      <td>∞</td>\n",
       "      <td>∞</td>\n",
       "      <td>130</td>\n",
       "      <td>140</td>\n",
       "      <td>0</td>\n",
       "      <td>0</td>\n",
       "      <td>0.01200</td>\n",
       "      <td>∞;;;;;;;;;;;;;;;;</td>\n",
       "      <td>10</td>\n",
       "      <td>0.001200</td>\n",
       "      <td>-0.000238</td>\n",
       "    </tr>\n",
       "    <tr>\n",
       "      <th>117</th>\n",
       "      <td>118</td>\n",
       "      <td>10</td>\n",
       "      <td>0</td>\n",
       "      <td>0</td>\n",
       "      <td>11</td>\n",
       "      <td>12</td>\n",
       "      <td>∞</td>\n",
       "      <td>∞</td>\n",
       "      <td>100</td>\n",
       "      <td>110</td>\n",
       "      <td>0</td>\n",
       "      <td>0</td>\n",
       "      <td>0.02900</td>\n",
       "      <td>∞;;;;;;;;;;;;;;;;</td>\n",
       "      <td>10</td>\n",
       "      <td>0.002900</td>\n",
       "      <td>-0.000083</td>\n",
       "    </tr>\n",
       "    <tr>\n",
       "      <th>118</th>\n",
       "      <td>119</td>\n",
       "      <td>10</td>\n",
       "      <td>0</td>\n",
       "      <td>0</td>\n",
       "      <td>12</td>\n",
       "      <td>13</td>\n",
       "      <td>∞</td>\n",
       "      <td>∞</td>\n",
       "      <td>110</td>\n",
       "      <td>120</td>\n",
       "      <td>0</td>\n",
       "      <td>0</td>\n",
       "      <td>0.01933</td>\n",
       "      <td>∞;;;;;;;;;;;;;;;;</td>\n",
       "      <td>10</td>\n",
       "      <td>0.001933</td>\n",
       "      <td>-0.000171</td>\n",
       "    </tr>\n",
       "    <tr>\n",
       "      <th>119</th>\n",
       "      <td>120</td>\n",
       "      <td>10</td>\n",
       "      <td>0</td>\n",
       "      <td>0</td>\n",
       "      <td>13</td>\n",
       "      <td>14</td>\n",
       "      <td>∞</td>\n",
       "      <td>∞</td>\n",
       "      <td>120</td>\n",
       "      <td>130</td>\n",
       "      <td>0</td>\n",
       "      <td>0</td>\n",
       "      <td>0.01750</td>\n",
       "      <td>∞;;;;;;;;;;;;;;;;</td>\n",
       "      <td>10</td>\n",
       "      <td>0.001750</td>\n",
       "      <td>-0.000188</td>\n",
       "    </tr>\n",
       "    <tr>\n",
       "      <th>120</th>\n",
       "      <td>121</td>\n",
       "      <td>11</td>\n",
       "      <td>0</td>\n",
       "      <td>0</td>\n",
       "      <td>12</td>\n",
       "      <td>13</td>\n",
       "      <td>∞</td>\n",
       "      <td>∞</td>\n",
       "      <td>110</td>\n",
       "      <td>120</td>\n",
       "      <td>0</td>\n",
       "      <td>0</td>\n",
       "      <td>0.01750</td>\n",
       "      <td>∞;;;;;;;;;;;;;;;;</td>\n",
       "      <td>10</td>\n",
       "      <td>0.001750</td>\n",
       "      <td>-0.000188</td>\n",
       "    </tr>\n",
       "  </tbody>\n",
       "</table>\n",
       "<p>121 rows × 17 columns</p>\n",
       "</div>"
      ],
      "text/plain": [
       "     Counter  Layer  I1  I2  V1  V2 I1_RealPosition (m) I2_RealPosition (m)  \\\n",
       "0          1      1   0   0   2   3                   ∞                   ∞   \n",
       "1          2      1   0   0   3   4                   ∞                   ∞   \n",
       "2          3      1   0   0   4   5                   ∞                   ∞   \n",
       "3          4      1   0   0   5   6                   ∞                   ∞   \n",
       "4          5      1   0   0   6   7                   ∞                   ∞   \n",
       "..       ...    ...  ..  ..  ..  ..                 ...                 ...   \n",
       "116      117      9   0   0  14  15                   ∞                   ∞   \n",
       "117      118     10   0   0  11  12                   ∞                   ∞   \n",
       "118      119     10   0   0  12  13                   ∞                   ∞   \n",
       "119      120     10   0   0  13  14                   ∞                   ∞   \n",
       "120      121     11   0   0  12  13                   ∞                   ∞   \n",
       "\n",
       "     V1_RealPosition (m)  V2_RealPosition (m)  Datum Mid Point (m)  \\\n",
       "0                     10                   20                    0   \n",
       "1                     20                   30                    0   \n",
       "2                     30                   40                    0   \n",
       "3                     40                   50                    0   \n",
       "4                     50                   60                    0   \n",
       "..                   ...                  ...                  ...   \n",
       "116                  130                  140                    0   \n",
       "117                  100                  110                    0   \n",
       "118                  110                  120                    0   \n",
       "119                  120                  130                    0   \n",
       "120                  110                  120                    0   \n",
       "\n",
       "     IResult (A)  VResult (V) RResult;;;;;;;;;;;;;;;;  DResult (m)  \\\n",
       "0              0      0.31800       ∞;;;;;;;;;;;;;;;;           10   \n",
       "1              0      0.05600       ∞;;;;;;;;;;;;;;;;           10   \n",
       "2              0      0.00100       ∞;;;;;;;;;;;;;;;;           10   \n",
       "3              0      0.21800       ∞;;;;;;;;;;;;;;;;           10   \n",
       "4              0      0.02000       ∞;;;;;;;;;;;;;;;;           10   \n",
       "..           ...          ...                     ...          ...   \n",
       "116            0      0.01200       ∞;;;;;;;;;;;;;;;;           10   \n",
       "117            0      0.02900       ∞;;;;;;;;;;;;;;;;           10   \n",
       "118            0      0.01933       ∞;;;;;;;;;;;;;;;;           10   \n",
       "119            0      0.01750       ∞;;;;;;;;;;;;;;;;           10   \n",
       "120            0      0.01750       ∞;;;;;;;;;;;;;;;;           10   \n",
       "\n",
       "     EResult (V/m)    ENoise  \n",
       "0         0.031800  0.002544  \n",
       "1         0.005600  0.000162  \n",
       "2         0.000100 -0.000338  \n",
       "3         0.021800  0.001635  \n",
       "4         0.002000 -0.000165  \n",
       "..             ...       ...  \n",
       "116       0.001200 -0.000238  \n",
       "117       0.002900 -0.000083  \n",
       "118       0.001933 -0.000171  \n",
       "119       0.001750 -0.000188  \n",
       "120       0.001750 -0.000188  \n",
       "\n",
       "[121 rows x 17 columns]"
      ]
     },
     "execution_count": 16,
     "metadata": {},
     "output_type": "execute_result"
    }
   ],
   "source": [
    "df_WenSch.insert(\n",
    "    df_WenSch.shape[1], \n",
    "    \"ENoise\", \n",
    "    E_noise_list, \n",
    "    True\n",
    ")\n",
    "\n",
    "df_WenSch"
   ]
  },
  {
   "cell_type": "code",
   "execution_count": 17,
   "metadata": {},
   "outputs": [],
   "source": [
    "data_E_noise = df_WenSch[\"ENoise\"]"
   ]
  },
  {
   "attachments": {},
   "cell_type": "markdown",
   "metadata": {},
   "source": [
    "### Menghitung rata-rata data noise (\"ENoise\")"
   ]
  },
  {
   "cell_type": "code",
   "execution_count": 18,
   "metadata": {},
   "outputs": [
    {
     "data": {
      "text/plain": [
       "2.844910659207832e-20"
      ]
     },
     "execution_count": 18,
     "metadata": {},
     "output_type": "execute_result"
    }
   ],
   "source": [
    "mean_E_noise = data_E_noise.mean()\n",
    "mean_E_noise"
   ]
  },
  {
   "attachments": {},
   "cell_type": "markdown",
   "metadata": {},
   "source": [
    "### Menghitung nilai puncak data noise (\"ENoise\")"
   ]
  },
  {
   "cell_type": "code",
   "execution_count": 19,
   "metadata": {},
   "outputs": [
    {
     "data": {
      "text/plain": [
       "0.0025802539444027047"
      ]
     },
     "execution_count": 19,
     "metadata": {},
     "output_type": "execute_result"
    }
   ],
   "source": [
    "peak_E_noise = data_E_noise.max()\n",
    "peak_E_noise"
   ]
  },
  {
   "attachments": {},
   "cell_type": "markdown",
   "metadata": {},
   "source": [
    "### Menghitung nilai standar deviasi data noise (\"ENoise\")"
   ]
  },
  {
   "cell_type": "code",
   "execution_count": 20,
   "metadata": {},
   "outputs": [
    {
     "data": {
      "text/plain": [
       "0.0006148383022123819"
      ]
     },
     "execution_count": 20,
     "metadata": {},
     "output_type": "execute_result"
    }
   ],
   "source": [
    "stdev_E_noise = data_E_noise.std()\n",
    "stdev_E_noise"
   ]
  },
  {
   "attachments": {},
   "cell_type": "markdown",
   "metadata": {},
   "source": [
    "### Menghitung nilai P25, P50, dan P90 data Medan Listrik (\"EResult (V/m)\")"
   ]
  },
  {
   "cell_type": "code",
   "execution_count": 21,
   "metadata": {},
   "outputs": [
    {
     "data": {
      "text/plain": [
       "-0.0002379278737791134"
      ]
     },
     "execution_count": 21,
     "metadata": {},
     "output_type": "execute_result"
    }
   ],
   "source": [
    "# P25\n",
    "p25_E_noise = np.percentile(data_E_noise, 25)\n",
    "p25_E_noise"
   ]
  },
  {
   "cell_type": "code",
   "execution_count": 22,
   "metadata": {},
   "outputs": [
    {
     "data": {
      "text/plain": [
       "-0.0001879278737791134"
      ]
     },
     "execution_count": 22,
     "metadata": {},
     "output_type": "execute_result"
    }
   ],
   "source": [
    "# P50\n",
    "p50_E_noise = np.percentile(data_E_noise, 50)\n",
    "p50_E_noise"
   ]
  },
  {
   "cell_type": "code",
   "execution_count": 23,
   "metadata": {},
   "outputs": [
    {
     "data": {
      "text/plain": [
       "0.00016207212622088658"
      ]
     },
     "execution_count": 23,
     "metadata": {},
     "output_type": "execute_result"
    }
   ],
   "source": [
    "# P90\n",
    "p90_E_noise = np.percentile(data_E_noise, 90)\n",
    "p90_E_noise"
   ]
  }
 ],
 "metadata": {
  "kernelspec": {
   "display_name": "Python 3.11.0 64-bit",
   "language": "python",
   "name": "python3"
  },
  "language_info": {
   "codemirror_mode": {
    "name": "ipython",
    "version": 3
   },
   "file_extension": ".py",
   "mimetype": "text/x-python",
   "name": "python",
   "nbconvert_exporter": "python",
   "pygments_lexer": "ipython3",
   "version": "3.11.0"
  },
  "orig_nbformat": 4,
  "vscode": {
   "interpreter": {
    "hash": "7efa0102473cc365dc960628bc14c2fa509771872efd5c90b3fcbc26e1dc733a"
   }
  }
 },
 "nbformat": 4,
 "nbformat_minor": 2
}
