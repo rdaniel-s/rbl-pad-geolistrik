{
 "cells": [
  {
   "attachments": {},
   "cell_type": "markdown",
   "metadata": {},
   "source": [
    "# Konfigurasi Wenner Alpha"
   ]
  },
  {
   "cell_type": "markdown",
   "metadata": {},
   "source": [
    "### Import Library"
   ]
  },
  {
   "cell_type": "code",
   "execution_count": 1,
   "metadata": {},
   "outputs": [
    {
     "name": "stdout",
     "output_type": "stream",
     "text": [
      "Done\n"
     ]
    }
   ],
   "source": [
    "import pandas as pd\n",
    "import numpy as np\n",
    "import matplotlib.pyplot as plt\n",
    "print(\"Done\")"
   ]
  },
  {
   "cell_type": "code",
   "execution_count": 2,
   "metadata": {},
   "outputs": [
    {
     "data": {
      "text/html": [
       "<div>\n",
       "<style scoped>\n",
       "    .dataframe tbody tr th:only-of-type {\n",
       "        vertical-align: middle;\n",
       "    }\n",
       "\n",
       "    .dataframe tbody tr th {\n",
       "        vertical-align: top;\n",
       "    }\n",
       "\n",
       "    .dataframe thead th {\n",
       "        text-align: right;\n",
       "    }\n",
       "</style>\n",
       "<table border=\"1\" class=\"dataframe\">\n",
       "  <thead>\n",
       "    <tr style=\"text-align: right;\">\n",
       "      <th></th>\n",
       "      <th>Counter</th>\n",
       "      <th>Layer</th>\n",
       "      <th>I1</th>\n",
       "      <th>I2</th>\n",
       "      <th>V1</th>\n",
       "      <th>V2</th>\n",
       "      <th>I1_RealPosition (m)</th>\n",
       "      <th>I2_RealPosition (m)</th>\n",
       "      <th>V1_RealPosition (m)</th>\n",
       "      <th>V2_RealPosition (m)</th>\n",
       "      <th>Datum Mid Point (m)</th>\n",
       "      <th>IResult (A)</th>\n",
       "      <th>VResult (V)</th>\n",
       "      <th>RResult;;;;;;;;;;;;;;;;</th>\n",
       "    </tr>\n",
       "  </thead>\n",
       "  <tbody>\n",
       "    <tr>\n",
       "      <th>0</th>\n",
       "      <td>1</td>\n",
       "      <td>1</td>\n",
       "      <td>0</td>\n",
       "      <td>0</td>\n",
       "      <td>2</td>\n",
       "      <td>3</td>\n",
       "      <td>∞</td>\n",
       "      <td>∞</td>\n",
       "      <td>10</td>\n",
       "      <td>20</td>\n",
       "      <td>0</td>\n",
       "      <td>0</td>\n",
       "      <td>0.31500</td>\n",
       "      <td>∞;;;;;;;;;;;;;;;;</td>\n",
       "    </tr>\n",
       "    <tr>\n",
       "      <th>1</th>\n",
       "      <td>2</td>\n",
       "      <td>1</td>\n",
       "      <td>0</td>\n",
       "      <td>0</td>\n",
       "      <td>3</td>\n",
       "      <td>4</td>\n",
       "      <td>∞</td>\n",
       "      <td>∞</td>\n",
       "      <td>20</td>\n",
       "      <td>30</td>\n",
       "      <td>0</td>\n",
       "      <td>0</td>\n",
       "      <td>0.04133</td>\n",
       "      <td>∞;;;;;;;;;;;;;;;;</td>\n",
       "    </tr>\n",
       "    <tr>\n",
       "      <th>2</th>\n",
       "      <td>3</td>\n",
       "      <td>1</td>\n",
       "      <td>0</td>\n",
       "      <td>0</td>\n",
       "      <td>4</td>\n",
       "      <td>5</td>\n",
       "      <td>∞</td>\n",
       "      <td>∞</td>\n",
       "      <td>30</td>\n",
       "      <td>40</td>\n",
       "      <td>0</td>\n",
       "      <td>0</td>\n",
       "      <td>0.09400</td>\n",
       "      <td>∞;;;;;;;;;;;;;;;;</td>\n",
       "    </tr>\n",
       "    <tr>\n",
       "      <th>3</th>\n",
       "      <td>4</td>\n",
       "      <td>1</td>\n",
       "      <td>0</td>\n",
       "      <td>0</td>\n",
       "      <td>5</td>\n",
       "      <td>6</td>\n",
       "      <td>∞</td>\n",
       "      <td>∞</td>\n",
       "      <td>40</td>\n",
       "      <td>50</td>\n",
       "      <td>0</td>\n",
       "      <td>0</td>\n",
       "      <td>0.14100</td>\n",
       "      <td>∞;;;;;;;;;;;;;;;;</td>\n",
       "    </tr>\n",
       "    <tr>\n",
       "      <th>4</th>\n",
       "      <td>5</td>\n",
       "      <td>1</td>\n",
       "      <td>0</td>\n",
       "      <td>0</td>\n",
       "      <td>6</td>\n",
       "      <td>7</td>\n",
       "      <td>∞</td>\n",
       "      <td>∞</td>\n",
       "      <td>50</td>\n",
       "      <td>60</td>\n",
       "      <td>0</td>\n",
       "      <td>0</td>\n",
       "      <td>0.01800</td>\n",
       "      <td>∞;;;;;;;;;;;;;;;;</td>\n",
       "    </tr>\n",
       "    <tr>\n",
       "      <th>...</th>\n",
       "      <td>...</td>\n",
       "      <td>...</td>\n",
       "      <td>...</td>\n",
       "      <td>...</td>\n",
       "      <td>...</td>\n",
       "      <td>...</td>\n",
       "      <td>...</td>\n",
       "      <td>...</td>\n",
       "      <td>...</td>\n",
       "      <td>...</td>\n",
       "      <td>...</td>\n",
       "      <td>...</td>\n",
       "      <td>...</td>\n",
       "      <td>...</td>\n",
       "    </tr>\n",
       "    <tr>\n",
       "      <th>79</th>\n",
       "      <td>80</td>\n",
       "      <td>6</td>\n",
       "      <td>0</td>\n",
       "      <td>0</td>\n",
       "      <td>11</td>\n",
       "      <td>17</td>\n",
       "      <td>∞</td>\n",
       "      <td>∞</td>\n",
       "      <td>100</td>\n",
       "      <td>160</td>\n",
       "      <td>0</td>\n",
       "      <td>0</td>\n",
       "      <td>0.00900</td>\n",
       "      <td>∞;;;;;;;;;;;;;;;;</td>\n",
       "    </tr>\n",
       "    <tr>\n",
       "      <th>80</th>\n",
       "      <td>81</td>\n",
       "      <td>6</td>\n",
       "      <td>0</td>\n",
       "      <td>0</td>\n",
       "      <td>12</td>\n",
       "      <td>18</td>\n",
       "      <td>∞</td>\n",
       "      <td>∞</td>\n",
       "      <td>110</td>\n",
       "      <td>170</td>\n",
       "      <td>0</td>\n",
       "      <td>0</td>\n",
       "      <td>0.01967</td>\n",
       "      <td>∞;;;;;;;;;;;;;;;;</td>\n",
       "    </tr>\n",
       "    <tr>\n",
       "      <th>81</th>\n",
       "      <td>82</td>\n",
       "      <td>7</td>\n",
       "      <td>0</td>\n",
       "      <td>0</td>\n",
       "      <td>8</td>\n",
       "      <td>15</td>\n",
       "      <td>∞</td>\n",
       "      <td>∞</td>\n",
       "      <td>70</td>\n",
       "      <td>140</td>\n",
       "      <td>0</td>\n",
       "      <td>0</td>\n",
       "      <td>0.00100</td>\n",
       "      <td>∞;;;;;;;;;;;;;;;;</td>\n",
       "    </tr>\n",
       "    <tr>\n",
       "      <th>82</th>\n",
       "      <td>83</td>\n",
       "      <td>7</td>\n",
       "      <td>0</td>\n",
       "      <td>0</td>\n",
       "      <td>9</td>\n",
       "      <td>16</td>\n",
       "      <td>∞</td>\n",
       "      <td>∞</td>\n",
       "      <td>80</td>\n",
       "      <td>150</td>\n",
       "      <td>0</td>\n",
       "      <td>0</td>\n",
       "      <td>0.03500</td>\n",
       "      <td>∞;;;;;;;;;;;;;;;;</td>\n",
       "    </tr>\n",
       "    <tr>\n",
       "      <th>83</th>\n",
       "      <td>84</td>\n",
       "      <td>7</td>\n",
       "      <td>0</td>\n",
       "      <td>0</td>\n",
       "      <td>10</td>\n",
       "      <td>17</td>\n",
       "      <td>∞</td>\n",
       "      <td>∞</td>\n",
       "      <td>90</td>\n",
       "      <td>160</td>\n",
       "      <td>0</td>\n",
       "      <td>0</td>\n",
       "      <td>0.00800</td>\n",
       "      <td>∞;;;;;;;;;;;;;;;;</td>\n",
       "    </tr>\n",
       "  </tbody>\n",
       "</table>\n",
       "<p>84 rows × 14 columns</p>\n",
       "</div>"
      ],
      "text/plain": [
       "    Counter  Layer  I1  I2  V1  V2 I1_RealPosition (m) I2_RealPosition (m)  \\\n",
       "0         1      1   0   0   2   3                   ∞                   ∞   \n",
       "1         2      1   0   0   3   4                   ∞                   ∞   \n",
       "2         3      1   0   0   4   5                   ∞                   ∞   \n",
       "3         4      1   0   0   5   6                   ∞                   ∞   \n",
       "4         5      1   0   0   6   7                   ∞                   ∞   \n",
       "..      ...    ...  ..  ..  ..  ..                 ...                 ...   \n",
       "79       80      6   0   0  11  17                   ∞                   ∞   \n",
       "80       81      6   0   0  12  18                   ∞                   ∞   \n",
       "81       82      7   0   0   8  15                   ∞                   ∞   \n",
       "82       83      7   0   0   9  16                   ∞                   ∞   \n",
       "83       84      7   0   0  10  17                   ∞                   ∞   \n",
       "\n",
       "    V1_RealPosition (m)  V2_RealPosition (m)  Datum Mid Point (m)  \\\n",
       "0                    10                   20                    0   \n",
       "1                    20                   30                    0   \n",
       "2                    30                   40                    0   \n",
       "3                    40                   50                    0   \n",
       "4                    50                   60                    0   \n",
       "..                  ...                  ...                  ...   \n",
       "79                  100                  160                    0   \n",
       "80                  110                  170                    0   \n",
       "81                   70                  140                    0   \n",
       "82                   80                  150                    0   \n",
       "83                   90                  160                    0   \n",
       "\n",
       "    IResult (A)  VResult (V) RResult;;;;;;;;;;;;;;;;  \n",
       "0             0      0.31500       ∞;;;;;;;;;;;;;;;;  \n",
       "1             0      0.04133       ∞;;;;;;;;;;;;;;;;  \n",
       "2             0      0.09400       ∞;;;;;;;;;;;;;;;;  \n",
       "3             0      0.14100       ∞;;;;;;;;;;;;;;;;  \n",
       "4             0      0.01800       ∞;;;;;;;;;;;;;;;;  \n",
       "..          ...          ...                     ...  \n",
       "79            0      0.00900       ∞;;;;;;;;;;;;;;;;  \n",
       "80            0      0.01967       ∞;;;;;;;;;;;;;;;;  \n",
       "81            0      0.00100       ∞;;;;;;;;;;;;;;;;  \n",
       "82            0      0.03500       ∞;;;;;;;;;;;;;;;;  \n",
       "83            0      0.00800       ∞;;;;;;;;;;;;;;;;  \n",
       "\n",
       "[84 rows x 14 columns]"
      ]
     },
     "execution_count": 2,
     "metadata": {},
     "output_type": "execute_result"
    }
   ],
   "source": [
    "df_WenAlpha = pd.read_csv(\"12112022_105135_SP_WenAlpha_WA Cimenyan.csv\")\n",
    "df_WenAlpha"
   ]
  },
  {
   "attachments": {},
   "cell_type": "markdown",
   "metadata": {},
   "source": [
    "### Menghitung nilai d dengan |\"V1_RealPosition (m)\"-\"V2_RealPosition (m)\"|"
   ]
  },
  {
   "cell_type": "code",
   "execution_count": 3,
   "metadata": {},
   "outputs": [],
   "source": [
    "N = df_WenAlpha.shape[0]\n",
    "d_list = []\n",
    "for i in range(N):\n",
    "    d_i = abs(df_WenAlpha[\"V1_RealPosition (m)\"][i] - df_WenAlpha[\"V2_RealPosition (m)\"][i])\n",
    "    d_list.append(d_i)"
   ]
  },
  {
   "attachments": {},
   "cell_type": "markdown",
   "metadata": {},
   "source": [
    "### Membuat kolom \"DResult (m)\" pada dataframe"
   ]
  },
  {
   "cell_type": "code",
   "execution_count": 4,
   "metadata": {},
   "outputs": [],
   "source": [
    "df_WenAlpha.insert(\n",
    "    df_WenAlpha.shape[1],\n",
    "    \"DResult (m)\",\n",
    "    d_list,\n",
    "    True\n",
    ")"
   ]
  },
  {
   "attachments": {},
   "cell_type": "markdown",
   "metadata": {},
   "source": [
    "### Menghitung nilai E dengan \"VResult (V)\"/\"DResult (m)\""
   ]
  },
  {
   "cell_type": "code",
   "execution_count": 5,
   "metadata": {},
   "outputs": [],
   "source": [
    "N = df_WenAlpha.shape[0]\n",
    "E_list = []\n",
    "for i in range(N):\n",
    "    E_i = (df_WenAlpha[\"VResult (V)\"][i])/(df_WenAlpha[\"DResult (m)\"][i])\n",
    "    E_list.append(E_i)"
   ]
  },
  {
   "attachments": {},
   "cell_type": "markdown",
   "metadata": {},
   "source": [
    "### Membuat kolom \"EResult (V/m)\" pada dataframe"
   ]
  },
  {
   "cell_type": "code",
   "execution_count": 6,
   "metadata": {},
   "outputs": [
    {
     "data": {
      "text/html": [
       "<div>\n",
       "<style scoped>\n",
       "    .dataframe tbody tr th:only-of-type {\n",
       "        vertical-align: middle;\n",
       "    }\n",
       "\n",
       "    .dataframe tbody tr th {\n",
       "        vertical-align: top;\n",
       "    }\n",
       "\n",
       "    .dataframe thead th {\n",
       "        text-align: right;\n",
       "    }\n",
       "</style>\n",
       "<table border=\"1\" class=\"dataframe\">\n",
       "  <thead>\n",
       "    <tr style=\"text-align: right;\">\n",
       "      <th></th>\n",
       "      <th>Counter</th>\n",
       "      <th>Layer</th>\n",
       "      <th>I1</th>\n",
       "      <th>I2</th>\n",
       "      <th>V1</th>\n",
       "      <th>V2</th>\n",
       "      <th>I1_RealPosition (m)</th>\n",
       "      <th>I2_RealPosition (m)</th>\n",
       "      <th>V1_RealPosition (m)</th>\n",
       "      <th>V2_RealPosition (m)</th>\n",
       "      <th>Datum Mid Point (m)</th>\n",
       "      <th>IResult (A)</th>\n",
       "      <th>VResult (V)</th>\n",
       "      <th>RResult;;;;;;;;;;;;;;;;</th>\n",
       "      <th>DResult (m)</th>\n",
       "      <th>EResult (V/m)</th>\n",
       "    </tr>\n",
       "  </thead>\n",
       "  <tbody>\n",
       "    <tr>\n",
       "      <th>0</th>\n",
       "      <td>1</td>\n",
       "      <td>1</td>\n",
       "      <td>0</td>\n",
       "      <td>0</td>\n",
       "      <td>2</td>\n",
       "      <td>3</td>\n",
       "      <td>∞</td>\n",
       "      <td>∞</td>\n",
       "      <td>10</td>\n",
       "      <td>20</td>\n",
       "      <td>0</td>\n",
       "      <td>0</td>\n",
       "      <td>0.31500</td>\n",
       "      <td>∞;;;;;;;;;;;;;;;;</td>\n",
       "      <td>10</td>\n",
       "      <td>0.031500</td>\n",
       "    </tr>\n",
       "    <tr>\n",
       "      <th>1</th>\n",
       "      <td>2</td>\n",
       "      <td>1</td>\n",
       "      <td>0</td>\n",
       "      <td>0</td>\n",
       "      <td>3</td>\n",
       "      <td>4</td>\n",
       "      <td>∞</td>\n",
       "      <td>∞</td>\n",
       "      <td>20</td>\n",
       "      <td>30</td>\n",
       "      <td>0</td>\n",
       "      <td>0</td>\n",
       "      <td>0.04133</td>\n",
       "      <td>∞;;;;;;;;;;;;;;;;</td>\n",
       "      <td>10</td>\n",
       "      <td>0.004133</td>\n",
       "    </tr>\n",
       "    <tr>\n",
       "      <th>2</th>\n",
       "      <td>3</td>\n",
       "      <td>1</td>\n",
       "      <td>0</td>\n",
       "      <td>0</td>\n",
       "      <td>4</td>\n",
       "      <td>5</td>\n",
       "      <td>∞</td>\n",
       "      <td>∞</td>\n",
       "      <td>30</td>\n",
       "      <td>40</td>\n",
       "      <td>0</td>\n",
       "      <td>0</td>\n",
       "      <td>0.09400</td>\n",
       "      <td>∞;;;;;;;;;;;;;;;;</td>\n",
       "      <td>10</td>\n",
       "      <td>0.009400</td>\n",
       "    </tr>\n",
       "    <tr>\n",
       "      <th>3</th>\n",
       "      <td>4</td>\n",
       "      <td>1</td>\n",
       "      <td>0</td>\n",
       "      <td>0</td>\n",
       "      <td>5</td>\n",
       "      <td>6</td>\n",
       "      <td>∞</td>\n",
       "      <td>∞</td>\n",
       "      <td>40</td>\n",
       "      <td>50</td>\n",
       "      <td>0</td>\n",
       "      <td>0</td>\n",
       "      <td>0.14100</td>\n",
       "      <td>∞;;;;;;;;;;;;;;;;</td>\n",
       "      <td>10</td>\n",
       "      <td>0.014100</td>\n",
       "    </tr>\n",
       "    <tr>\n",
       "      <th>4</th>\n",
       "      <td>5</td>\n",
       "      <td>1</td>\n",
       "      <td>0</td>\n",
       "      <td>0</td>\n",
       "      <td>6</td>\n",
       "      <td>7</td>\n",
       "      <td>∞</td>\n",
       "      <td>∞</td>\n",
       "      <td>50</td>\n",
       "      <td>60</td>\n",
       "      <td>0</td>\n",
       "      <td>0</td>\n",
       "      <td>0.01800</td>\n",
       "      <td>∞;;;;;;;;;;;;;;;;</td>\n",
       "      <td>10</td>\n",
       "      <td>0.001800</td>\n",
       "    </tr>\n",
       "    <tr>\n",
       "      <th>...</th>\n",
       "      <td>...</td>\n",
       "      <td>...</td>\n",
       "      <td>...</td>\n",
       "      <td>...</td>\n",
       "      <td>...</td>\n",
       "      <td>...</td>\n",
       "      <td>...</td>\n",
       "      <td>...</td>\n",
       "      <td>...</td>\n",
       "      <td>...</td>\n",
       "      <td>...</td>\n",
       "      <td>...</td>\n",
       "      <td>...</td>\n",
       "      <td>...</td>\n",
       "      <td>...</td>\n",
       "      <td>...</td>\n",
       "    </tr>\n",
       "    <tr>\n",
       "      <th>79</th>\n",
       "      <td>80</td>\n",
       "      <td>6</td>\n",
       "      <td>0</td>\n",
       "      <td>0</td>\n",
       "      <td>11</td>\n",
       "      <td>17</td>\n",
       "      <td>∞</td>\n",
       "      <td>∞</td>\n",
       "      <td>100</td>\n",
       "      <td>160</td>\n",
       "      <td>0</td>\n",
       "      <td>0</td>\n",
       "      <td>0.00900</td>\n",
       "      <td>∞;;;;;;;;;;;;;;;;</td>\n",
       "      <td>60</td>\n",
       "      <td>0.000150</td>\n",
       "    </tr>\n",
       "    <tr>\n",
       "      <th>80</th>\n",
       "      <td>81</td>\n",
       "      <td>6</td>\n",
       "      <td>0</td>\n",
       "      <td>0</td>\n",
       "      <td>12</td>\n",
       "      <td>18</td>\n",
       "      <td>∞</td>\n",
       "      <td>∞</td>\n",
       "      <td>110</td>\n",
       "      <td>170</td>\n",
       "      <td>0</td>\n",
       "      <td>0</td>\n",
       "      <td>0.01967</td>\n",
       "      <td>∞;;;;;;;;;;;;;;;;</td>\n",
       "      <td>60</td>\n",
       "      <td>0.000328</td>\n",
       "    </tr>\n",
       "    <tr>\n",
       "      <th>81</th>\n",
       "      <td>82</td>\n",
       "      <td>7</td>\n",
       "      <td>0</td>\n",
       "      <td>0</td>\n",
       "      <td>8</td>\n",
       "      <td>15</td>\n",
       "      <td>∞</td>\n",
       "      <td>∞</td>\n",
       "      <td>70</td>\n",
       "      <td>140</td>\n",
       "      <td>0</td>\n",
       "      <td>0</td>\n",
       "      <td>0.00100</td>\n",
       "      <td>∞;;;;;;;;;;;;;;;;</td>\n",
       "      <td>70</td>\n",
       "      <td>0.000014</td>\n",
       "    </tr>\n",
       "    <tr>\n",
       "      <th>82</th>\n",
       "      <td>83</td>\n",
       "      <td>7</td>\n",
       "      <td>0</td>\n",
       "      <td>0</td>\n",
       "      <td>9</td>\n",
       "      <td>16</td>\n",
       "      <td>∞</td>\n",
       "      <td>∞</td>\n",
       "      <td>80</td>\n",
       "      <td>150</td>\n",
       "      <td>0</td>\n",
       "      <td>0</td>\n",
       "      <td>0.03500</td>\n",
       "      <td>∞;;;;;;;;;;;;;;;;</td>\n",
       "      <td>70</td>\n",
       "      <td>0.000500</td>\n",
       "    </tr>\n",
       "    <tr>\n",
       "      <th>83</th>\n",
       "      <td>84</td>\n",
       "      <td>7</td>\n",
       "      <td>0</td>\n",
       "      <td>0</td>\n",
       "      <td>10</td>\n",
       "      <td>17</td>\n",
       "      <td>∞</td>\n",
       "      <td>∞</td>\n",
       "      <td>90</td>\n",
       "      <td>160</td>\n",
       "      <td>0</td>\n",
       "      <td>0</td>\n",
       "      <td>0.00800</td>\n",
       "      <td>∞;;;;;;;;;;;;;;;;</td>\n",
       "      <td>70</td>\n",
       "      <td>0.000114</td>\n",
       "    </tr>\n",
       "  </tbody>\n",
       "</table>\n",
       "<p>84 rows × 16 columns</p>\n",
       "</div>"
      ],
      "text/plain": [
       "    Counter  Layer  I1  I2  V1  V2 I1_RealPosition (m) I2_RealPosition (m)  \\\n",
       "0         1      1   0   0   2   3                   ∞                   ∞   \n",
       "1         2      1   0   0   3   4                   ∞                   ∞   \n",
       "2         3      1   0   0   4   5                   ∞                   ∞   \n",
       "3         4      1   0   0   5   6                   ∞                   ∞   \n",
       "4         5      1   0   0   6   7                   ∞                   ∞   \n",
       "..      ...    ...  ..  ..  ..  ..                 ...                 ...   \n",
       "79       80      6   0   0  11  17                   ∞                   ∞   \n",
       "80       81      6   0   0  12  18                   ∞                   ∞   \n",
       "81       82      7   0   0   8  15                   ∞                   ∞   \n",
       "82       83      7   0   0   9  16                   ∞                   ∞   \n",
       "83       84      7   0   0  10  17                   ∞                   ∞   \n",
       "\n",
       "    V1_RealPosition (m)  V2_RealPosition (m)  Datum Mid Point (m)  \\\n",
       "0                    10                   20                    0   \n",
       "1                    20                   30                    0   \n",
       "2                    30                   40                    0   \n",
       "3                    40                   50                    0   \n",
       "4                    50                   60                    0   \n",
       "..                  ...                  ...                  ...   \n",
       "79                  100                  160                    0   \n",
       "80                  110                  170                    0   \n",
       "81                   70                  140                    0   \n",
       "82                   80                  150                    0   \n",
       "83                   90                  160                    0   \n",
       "\n",
       "    IResult (A)  VResult (V) RResult;;;;;;;;;;;;;;;;  DResult (m)  \\\n",
       "0             0      0.31500       ∞;;;;;;;;;;;;;;;;           10   \n",
       "1             0      0.04133       ∞;;;;;;;;;;;;;;;;           10   \n",
       "2             0      0.09400       ∞;;;;;;;;;;;;;;;;           10   \n",
       "3             0      0.14100       ∞;;;;;;;;;;;;;;;;           10   \n",
       "4             0      0.01800       ∞;;;;;;;;;;;;;;;;           10   \n",
       "..          ...          ...                     ...          ...   \n",
       "79            0      0.00900       ∞;;;;;;;;;;;;;;;;           60   \n",
       "80            0      0.01967       ∞;;;;;;;;;;;;;;;;           60   \n",
       "81            0      0.00100       ∞;;;;;;;;;;;;;;;;           70   \n",
       "82            0      0.03500       ∞;;;;;;;;;;;;;;;;           70   \n",
       "83            0      0.00800       ∞;;;;;;;;;;;;;;;;           70   \n",
       "\n",
       "    EResult (V/m)  \n",
       "0        0.031500  \n",
       "1        0.004133  \n",
       "2        0.009400  \n",
       "3        0.014100  \n",
       "4        0.001800  \n",
       "..            ...  \n",
       "79       0.000150  \n",
       "80       0.000328  \n",
       "81       0.000014  \n",
       "82       0.000500  \n",
       "83       0.000114  \n",
       "\n",
       "[84 rows x 16 columns]"
      ]
     },
     "execution_count": 6,
     "metadata": {},
     "output_type": "execute_result"
    }
   ],
   "source": [
    "df_WenAlpha.insert(\n",
    "    df_WenAlpha.shape[1], \n",
    "    \"EResult (V/m)\", \n",
    "    E_list, \n",
    "    True\n",
    ")\n",
    "\n",
    "df_WenAlpha"
   ]
  },
  {
   "cell_type": "code",
   "execution_count": 7,
   "metadata": {},
   "outputs": [],
   "source": [
    "data_E = df_WenAlpha[\"EResult (V/m)\"]"
   ]
  },
  {
   "cell_type": "markdown",
   "metadata": {},
   "source": [
    "### Menghitung rata-rata data Medan Listrik (\"EResult (V/m)\")"
   ]
  },
  {
   "cell_type": "code",
   "execution_count": 8,
   "metadata": {},
   "outputs": [
    {
     "data": {
      "text/plain": [
       "0.0019394371598639455"
      ]
     },
     "execution_count": 8,
     "metadata": {},
     "output_type": "execute_result"
    }
   ],
   "source": [
    "mean_E = data_E.mean()\n",
    "mean_E"
   ]
  },
  {
   "attachments": {},
   "cell_type": "markdown",
   "metadata": {},
   "source": [
    "### Menentukan nilai puncak (peak) data Medan Listrik (\"EResult (V/m)\")"
   ]
  },
  {
   "cell_type": "code",
   "execution_count": 9,
   "metadata": {},
   "outputs": [
    {
     "data": {
      "text/plain": [
       "0.0315"
      ]
     },
     "execution_count": 9,
     "metadata": {},
     "output_type": "execute_result"
    }
   ],
   "source": [
    "peak_E = data_E.max()\n",
    "peak_E"
   ]
  },
  {
   "cell_type": "markdown",
   "metadata": {},
   "source": [
    "### Menghitung standar deviasi data Medan Listrik (\"EResult (V/m)\")"
   ]
  },
  {
   "cell_type": "code",
   "execution_count": 10,
   "metadata": {},
   "outputs": [
    {
     "data": {
      "text/plain": [
       "0.004138060431144007"
      ]
     },
     "execution_count": 10,
     "metadata": {},
     "output_type": "execute_result"
    }
   ],
   "source": [
    "stdev_E = data_E.std()\n",
    "stdev_E"
   ]
  },
  {
   "attachments": {},
   "cell_type": "markdown",
   "metadata": {},
   "source": [
    "### Menghitung nilai P25, P50, dan P90 data Medan Listrik (\"EResult (V/m)\")"
   ]
  },
  {
   "cell_type": "code",
   "execution_count": 11,
   "metadata": {},
   "outputs": [
    {
     "data": {
      "text/plain": [
       "0.00030000000000000003"
      ]
     },
     "execution_count": 11,
     "metadata": {},
     "output_type": "execute_result"
    }
   ],
   "source": [
    "# P25\n",
    "p25_E = np.percentile(data_E, 25)\n",
    "p25_E"
   ]
  },
  {
   "cell_type": "code",
   "execution_count": 12,
   "metadata": {},
   "outputs": [
    {
     "data": {
      "text/plain": [
       "0.000645"
      ]
     },
     "execution_count": 12,
     "metadata": {},
     "output_type": "execute_result"
    }
   ],
   "source": [
    "# P50\n",
    "p50_E = np.percentile(data_E, 50)\n",
    "p50_E"
   ]
  },
  {
   "cell_type": "code",
   "execution_count": 13,
   "metadata": {},
   "outputs": [
    {
     "data": {
      "text/plain": [
       "0.003935600000000002"
      ]
     },
     "execution_count": 13,
     "metadata": {},
     "output_type": "execute_result"
    }
   ],
   "source": [
    "# P90\n",
    "p90_E = np.percentile(data_E, 90)\n",
    "p90_E"
   ]
  },
  {
   "attachments": {},
   "cell_type": "markdown",
   "metadata": {},
   "source": [
    "### Membuat grafik distribusi Gaussian data Medan Listrik"
   ]
  },
  {
   "cell_type": "code",
   "execution_count": 14,
   "metadata": {},
   "outputs": [
    {
     "data": {
      "image/png": "[encoded data removed]",
      "text/plain": [
       "<Figure size 640x480 with 1 Axes>"
      ]
     },
     "metadata": {},
     "output_type": "display_data"
    }
   ],
   "source": [
    "count, bins, ignored = plt.hist(data_E, 30, density=True)\n",
    "plt.plot(\n",
    "    bins, \n",
    "    (1/(stdev_E * np.sqrt(2*np.pi))) * np.exp( (-((bins - mean_E)**2)) / (2 * (stdev_E**2)) ),\n",
    "    linewidth=2, \n",
    "    color='r'\n",
    ")\n",
    "plt.savefig(\"WenAlpha_gaussian_E.png\")\n",
    "plt.show()"
   ]
  },
  {
   "attachments": {},
   "cell_type": "markdown",
   "metadata": {},
   "source": [
    "### Menghitung nilai ENoise"
   ]
  },
  {
   "cell_type": "code",
   "execution_count": 15,
   "metadata": {},
   "outputs": [],
   "source": [
    "N = df_WenAlpha.shape[0]\n",
    "E_noise_list = []\n",
    "for i in range(N):\n",
    "    z = (data_E[i]-mean_E)/(stdev_E)\n",
    "    E_noise_i = (z)*(stdev_E/(N**0.5))\n",
    "    E_noise_list.append(E_noise_i)"
   ]
  },
  {
   "attachments": {},
   "cell_type": "markdown",
   "metadata": {},
   "source": [
    "### Membuat kolom \"ENoise\" pada dataframe"
   ]
  },
  {
   "cell_type": "code",
   "execution_count": 16,
   "metadata": {},
   "outputs": [
    {
     "data": {
      "text/html": [
       "<div>\n",
       "<style scoped>\n",
       "    .dataframe tbody tr th:only-of-type {\n",
       "        vertical-align: middle;\n",
       "    }\n",
       "\n",
       "    .dataframe tbody tr th {\n",
       "        vertical-align: top;\n",
       "    }\n",
       "\n",
       "    .dataframe thead th {\n",
       "        text-align: right;\n",
       "    }\n",
       "</style>\n",
       "<table border=\"1\" class=\"dataframe\">\n",
       "  <thead>\n",
       "    <tr style=\"text-align: right;\">\n",
       "      <th></th>\n",
       "      <th>Counter</th>\n",
       "      <th>Layer</th>\n",
       "      <th>I1</th>\n",
       "      <th>I2</th>\n",
       "      <th>V1</th>\n",
       "      <th>V2</th>\n",
       "      <th>I1_RealPosition (m)</th>\n",
       "      <th>I2_RealPosition (m)</th>\n",
       "      <th>V1_RealPosition (m)</th>\n",
       "      <th>V2_RealPosition (m)</th>\n",
       "      <th>Datum Mid Point (m)</th>\n",
       "      <th>IResult (A)</th>\n",
       "      <th>VResult (V)</th>\n",
       "      <th>RResult;;;;;;;;;;;;;;;;</th>\n",
       "      <th>DResult (m)</th>\n",
       "      <th>EResult (V/m)</th>\n",
       "      <th>ENoise</th>\n",
       "    </tr>\n",
       "  </thead>\n",
       "  <tbody>\n",
       "    <tr>\n",
       "      <th>0</th>\n",
       "      <td>1</td>\n",
       "      <td>1</td>\n",
       "      <td>0</td>\n",
       "      <td>0</td>\n",
       "      <td>2</td>\n",
       "      <td>3</td>\n",
       "      <td>∞</td>\n",
       "      <td>∞</td>\n",
       "      <td>10</td>\n",
       "      <td>20</td>\n",
       "      <td>0</td>\n",
       "      <td>0</td>\n",
       "      <td>0.31500</td>\n",
       "      <td>∞;;;;;;;;;;;;;;;;</td>\n",
       "      <td>10</td>\n",
       "      <td>0.031500</td>\n",
       "      <td>0.003225</td>\n",
       "    </tr>\n",
       "    <tr>\n",
       "      <th>1</th>\n",
       "      <td>2</td>\n",
       "      <td>1</td>\n",
       "      <td>0</td>\n",
       "      <td>0</td>\n",
       "      <td>3</td>\n",
       "      <td>4</td>\n",
       "      <td>∞</td>\n",
       "      <td>∞</td>\n",
       "      <td>20</td>\n",
       "      <td>30</td>\n",
       "      <td>0</td>\n",
       "      <td>0</td>\n",
       "      <td>0.04133</td>\n",
       "      <td>∞;;;;;;;;;;;;;;;;</td>\n",
       "      <td>10</td>\n",
       "      <td>0.004133</td>\n",
       "      <td>0.000239</td>\n",
       "    </tr>\n",
       "    <tr>\n",
       "      <th>2</th>\n",
       "      <td>3</td>\n",
       "      <td>1</td>\n",
       "      <td>0</td>\n",
       "      <td>0</td>\n",
       "      <td>4</td>\n",
       "      <td>5</td>\n",
       "      <td>∞</td>\n",
       "      <td>∞</td>\n",
       "      <td>30</td>\n",
       "      <td>40</td>\n",
       "      <td>0</td>\n",
       "      <td>0</td>\n",
       "      <td>0.09400</td>\n",
       "      <td>∞;;;;;;;;;;;;;;;;</td>\n",
       "      <td>10</td>\n",
       "      <td>0.009400</td>\n",
       "      <td>0.000814</td>\n",
       "    </tr>\n",
       "    <tr>\n",
       "      <th>3</th>\n",
       "      <td>4</td>\n",
       "      <td>1</td>\n",
       "      <td>0</td>\n",
       "      <td>0</td>\n",
       "      <td>5</td>\n",
       "      <td>6</td>\n",
       "      <td>∞</td>\n",
       "      <td>∞</td>\n",
       "      <td>40</td>\n",
       "      <td>50</td>\n",
       "      <td>0</td>\n",
       "      <td>0</td>\n",
       "      <td>0.14100</td>\n",
       "      <td>∞;;;;;;;;;;;;;;;;</td>\n",
       "      <td>10</td>\n",
       "      <td>0.014100</td>\n",
       "      <td>0.001327</td>\n",
       "    </tr>\n",
       "    <tr>\n",
       "      <th>4</th>\n",
       "      <td>5</td>\n",
       "      <td>1</td>\n",
       "      <td>0</td>\n",
       "      <td>0</td>\n",
       "      <td>6</td>\n",
       "      <td>7</td>\n",
       "      <td>∞</td>\n",
       "      <td>∞</td>\n",
       "      <td>50</td>\n",
       "      <td>60</td>\n",
       "      <td>0</td>\n",
       "      <td>0</td>\n",
       "      <td>0.01800</td>\n",
       "      <td>∞;;;;;;;;;;;;;;;;</td>\n",
       "      <td>10</td>\n",
       "      <td>0.001800</td>\n",
       "      <td>-0.000015</td>\n",
       "    </tr>\n",
       "    <tr>\n",
       "      <th>...</th>\n",
       "      <td>...</td>\n",
       "      <td>...</td>\n",
       "      <td>...</td>\n",
       "      <td>...</td>\n",
       "      <td>...</td>\n",
       "      <td>...</td>\n",
       "      <td>...</td>\n",
       "      <td>...</td>\n",
       "      <td>...</td>\n",
       "      <td>...</td>\n",
       "      <td>...</td>\n",
       "      <td>...</td>\n",
       "      <td>...</td>\n",
       "      <td>...</td>\n",
       "      <td>...</td>\n",
       "      <td>...</td>\n",
       "      <td>...</td>\n",
       "    </tr>\n",
       "    <tr>\n",
       "      <th>79</th>\n",
       "      <td>80</td>\n",
       "      <td>6</td>\n",
       "      <td>0</td>\n",
       "      <td>0</td>\n",
       "      <td>11</td>\n",
       "      <td>17</td>\n",
       "      <td>∞</td>\n",
       "      <td>∞</td>\n",
       "      <td>100</td>\n",
       "      <td>160</td>\n",
       "      <td>0</td>\n",
       "      <td>0</td>\n",
       "      <td>0.00900</td>\n",
       "      <td>∞;;;;;;;;;;;;;;;;</td>\n",
       "      <td>60</td>\n",
       "      <td>0.000150</td>\n",
       "      <td>-0.000195</td>\n",
       "    </tr>\n",
       "    <tr>\n",
       "      <th>80</th>\n",
       "      <td>81</td>\n",
       "      <td>6</td>\n",
       "      <td>0</td>\n",
       "      <td>0</td>\n",
       "      <td>12</td>\n",
       "      <td>18</td>\n",
       "      <td>∞</td>\n",
       "      <td>∞</td>\n",
       "      <td>110</td>\n",
       "      <td>170</td>\n",
       "      <td>0</td>\n",
       "      <td>0</td>\n",
       "      <td>0.01967</td>\n",
       "      <td>∞;;;;;;;;;;;;;;;;</td>\n",
       "      <td>60</td>\n",
       "      <td>0.000328</td>\n",
       "      <td>-0.000176</td>\n",
       "    </tr>\n",
       "    <tr>\n",
       "      <th>81</th>\n",
       "      <td>82</td>\n",
       "      <td>7</td>\n",
       "      <td>0</td>\n",
       "      <td>0</td>\n",
       "      <td>8</td>\n",
       "      <td>15</td>\n",
       "      <td>∞</td>\n",
       "      <td>∞</td>\n",
       "      <td>70</td>\n",
       "      <td>140</td>\n",
       "      <td>0</td>\n",
       "      <td>0</td>\n",
       "      <td>0.00100</td>\n",
       "      <td>∞;;;;;;;;;;;;;;;;</td>\n",
       "      <td>70</td>\n",
       "      <td>0.000014</td>\n",
       "      <td>-0.000210</td>\n",
       "    </tr>\n",
       "    <tr>\n",
       "      <th>82</th>\n",
       "      <td>83</td>\n",
       "      <td>7</td>\n",
       "      <td>0</td>\n",
       "      <td>0</td>\n",
       "      <td>9</td>\n",
       "      <td>16</td>\n",
       "      <td>∞</td>\n",
       "      <td>∞</td>\n",
       "      <td>80</td>\n",
       "      <td>150</td>\n",
       "      <td>0</td>\n",
       "      <td>0</td>\n",
       "      <td>0.03500</td>\n",
       "      <td>∞;;;;;;;;;;;;;;;;</td>\n",
       "      <td>70</td>\n",
       "      <td>0.000500</td>\n",
       "      <td>-0.000157</td>\n",
       "    </tr>\n",
       "    <tr>\n",
       "      <th>83</th>\n",
       "      <td>84</td>\n",
       "      <td>7</td>\n",
       "      <td>0</td>\n",
       "      <td>0</td>\n",
       "      <td>10</td>\n",
       "      <td>17</td>\n",
       "      <td>∞</td>\n",
       "      <td>∞</td>\n",
       "      <td>90</td>\n",
       "      <td>160</td>\n",
       "      <td>0</td>\n",
       "      <td>0</td>\n",
       "      <td>0.00800</td>\n",
       "      <td>∞;;;;;;;;;;;;;;;;</td>\n",
       "      <td>70</td>\n",
       "      <td>0.000114</td>\n",
       "      <td>-0.000199</td>\n",
       "    </tr>\n",
       "  </tbody>\n",
       "</table>\n",
       "<p>84 rows × 17 columns</p>\n",
       "</div>"
      ],
      "text/plain": [
       "    Counter  Layer  I1  I2  V1  V2 I1_RealPosition (m) I2_RealPosition (m)  \\\n",
       "0         1      1   0   0   2   3                   ∞                   ∞   \n",
       "1         2      1   0   0   3   4                   ∞                   ∞   \n",
       "2         3      1   0   0   4   5                   ∞                   ∞   \n",
       "3         4      1   0   0   5   6                   ∞                   ∞   \n",
       "4         5      1   0   0   6   7                   ∞                   ∞   \n",
       "..      ...    ...  ..  ..  ..  ..                 ...                 ...   \n",
       "79       80      6   0   0  11  17                   ∞                   ∞   \n",
       "80       81      6   0   0  12  18                   ∞                   ∞   \n",
       "81       82      7   0   0   8  15                   ∞                   ∞   \n",
       "82       83      7   0   0   9  16                   ∞                   ∞   \n",
       "83       84      7   0   0  10  17                   ∞                   ∞   \n",
       "\n",
       "    V1_RealPosition (m)  V2_RealPosition (m)  Datum Mid Point (m)  \\\n",
       "0                    10                   20                    0   \n",
       "1                    20                   30                    0   \n",
       "2                    30                   40                    0   \n",
       "3                    40                   50                    0   \n",
       "4                    50                   60                    0   \n",
       "..                  ...                  ...                  ...   \n",
       "79                  100                  160                    0   \n",
       "80                  110                  170                    0   \n",
       "81                   70                  140                    0   \n",
       "82                   80                  150                    0   \n",
       "83                   90                  160                    0   \n",
       "\n",
       "    IResult (A)  VResult (V) RResult;;;;;;;;;;;;;;;;  DResult (m)  \\\n",
       "0             0      0.31500       ∞;;;;;;;;;;;;;;;;           10   \n",
       "1             0      0.04133       ∞;;;;;;;;;;;;;;;;           10   \n",
       "2             0      0.09400       ∞;;;;;;;;;;;;;;;;           10   \n",
       "3             0      0.14100       ∞;;;;;;;;;;;;;;;;           10   \n",
       "4             0      0.01800       ∞;;;;;;;;;;;;;;;;           10   \n",
       "..          ...          ...                     ...          ...   \n",
       "79            0      0.00900       ∞;;;;;;;;;;;;;;;;           60   \n",
       "80            0      0.01967       ∞;;;;;;;;;;;;;;;;           60   \n",
       "81            0      0.00100       ∞;;;;;;;;;;;;;;;;           70   \n",
       "82            0      0.03500       ∞;;;;;;;;;;;;;;;;           70   \n",
       "83            0      0.00800       ∞;;;;;;;;;;;;;;;;           70   \n",
       "\n",
       "    EResult (V/m)    ENoise  \n",
       "0        0.031500  0.003225  \n",
       "1        0.004133  0.000239  \n",
       "2        0.009400  0.000814  \n",
       "3        0.014100  0.001327  \n",
       "4        0.001800 -0.000015  \n",
       "..            ...       ...  \n",
       "79       0.000150 -0.000195  \n",
       "80       0.000328 -0.000176  \n",
       "81       0.000014 -0.000210  \n",
       "82       0.000500 -0.000157  \n",
       "83       0.000114 -0.000199  \n",
       "\n",
       "[84 rows x 17 columns]"
      ]
     },
     "execution_count": 16,
     "metadata": {},
     "output_type": "execute_result"
    }
   ],
   "source": [
    "df_WenAlpha.insert(\n",
    "    df_WenAlpha.shape[1], \n",
    "    \"ENoise\", \n",
    "    E_noise_list, \n",
    "    True\n",
    ")\n",
    "\n",
    "df_WenAlpha"
   ]
  },
  {
   "cell_type": "code",
   "execution_count": 17,
   "metadata": {},
   "outputs": [],
   "source": [
    "data_E_noise = df_WenAlpha[\"ENoise\"]"
   ]
  },
  {
   "attachments": {},
   "cell_type": "markdown",
   "metadata": {},
   "source": [
    "### Menghitung rata-rata data noise (\"ENoise\")"
   ]
  },
  {
   "cell_type": "code",
   "execution_count": 18,
   "metadata": {},
   "outputs": [
    {
     "data": {
      "text/plain": [
       "1.613396090008191e-20"
      ]
     },
     "execution_count": 18,
     "metadata": {},
     "output_type": "execute_result"
    }
   ],
   "source": [
    "mean_E_noise = data_E_noise.mean()\n",
    "mean_E_noise"
   ]
  },
  {
   "attachments": {},
   "cell_type": "markdown",
   "metadata": {},
   "source": [
    "### Menghitung nilai puncak data noise (\"ENoise\")"
   ]
  },
  {
   "cell_type": "code",
   "execution_count": 19,
   "metadata": {},
   "outputs": [
    {
     "data": {
      "text/plain": [
       "0.0032253218285814827"
      ]
     },
     "execution_count": 19,
     "metadata": {},
     "output_type": "execute_result"
    }
   ],
   "source": [
    "peak_E_noise = data_E_noise.max()\n",
    "peak_E_noise"
   ]
  },
  {
   "attachments": {},
   "cell_type": "markdown",
   "metadata": {},
   "source": [
    "### Menghitung nilai standar deviasi data noise (\"ENoise\")"
   ]
  },
  {
   "cell_type": "code",
   "execution_count": 20,
   "metadata": {},
   "outputs": [
    {
     "data": {
      "text/plain": [
       "0.0004514994084766431"
      ]
     },
     "execution_count": 20,
     "metadata": {},
     "output_type": "execute_result"
    }
   ],
   "source": [
    "stdev_E_noise = data_E_noise.std()\n",
    "stdev_E_noise"
   ]
  },
  {
   "attachments": {},
   "cell_type": "markdown",
   "metadata": {},
   "source": [
    "### Menghitung nilai P25, P50, dan P90 data Medan Listrik (\"EResult (V/m)\")"
   ]
  },
  {
   "cell_type": "code",
   "execution_count": 21,
   "metadata": {},
   "outputs": [
    {
     "data": {
      "text/plain": [
       "-0.00017887725909999878"
      ]
     },
     "execution_count": 21,
     "metadata": {},
     "output_type": "execute_result"
    }
   ],
   "source": [
    "# P25\n",
    "p25_E_noise = np.percentile(data_E_noise, 25)\n",
    "p25_E_noise"
   ]
  },
  {
   "cell_type": "code",
   "execution_count": 22,
   "metadata": {},
   "outputs": [
    {
     "data": {
      "text/plain": [
       "-0.0001412346730342901"
      ]
     },
     "execution_count": 22,
     "metadata": {},
     "output_type": "execute_result"
    }
   ],
   "source": [
    "# P50\n",
    "p50_E_noise = np.percentile(data_E_noise, 50)\n",
    "p50_E_noise"
   ]
  },
  {
   "cell_type": "code",
   "execution_count": 23,
   "metadata": {},
   "outputs": [
    {
     "data": {
      "text/plain": [
       "0.00021779922177098837"
      ]
     },
     "execution_count": 23,
     "metadata": {},
     "output_type": "execute_result"
    }
   ],
   "source": [
    "# P90\n",
    "p90_E_noise = np.percentile(data_E_noise, 90)\n",
    "p90_E_noise"
   ]
  }
 ],
 "metadata": {
  "kernelspec": {
   "display_name": "Python 3.11.0 64-bit",
   "language": "python",
   "name": "python3"
  },
  "language_info": {
   "codemirror_mode": {
    "name": "ipython",
    "version": 3
   },
   "file_extension": ".py",
   "mimetype": "text/x-python",
   "name": "python",
   "nbconvert_exporter": "python",
   "pygments_lexer": "ipython3",
   "version": "3.11.0"
  },
  "orig_nbformat": 4,
  "vscode": {
   "interpreter": {
    "hash": "7efa0102473cc365dc960628bc14c2fa509771872efd5c90b3fcbc26e1dc733a"
   }
  }
 },
 "nbformat": 4,
 "nbformat_minor": 2
}
